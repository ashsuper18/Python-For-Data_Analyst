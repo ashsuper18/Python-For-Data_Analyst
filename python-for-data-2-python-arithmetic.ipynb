{
 "cells": [
  {
   "cell_type": "markdown",
   "metadata": {
    "_cell_guid": "b1076dfc-b9ad-4769-8c92-a6c4dae69d19",
    "_uuid": "8f2839f25d086af736a60e9eeb907d3b93b6e0e5"
   },
   "source": [
    "# Python for Data 2: Python Arithmetic\n",
    "[back to index](https://www.kaggle.com/hamelg/python-for-data-analysis-index)"
   ]
  },
  {
   "cell_type": "markdown",
   "metadata": {
    "_cell_guid": "79c7e3d0-c299-4dcb-8224-4455121ee9b0",
    "_uuid": "d629ff2d2480ee46fbb7e2d37f6b5fab8052498a"
   },
   "source": [
    "In Part 1 of this series, we discussed the basics of what Python is and how we will interact with Python using the Kaggle Jupyter notebook environment. With those preliminaries out of the way, we can jump in and start learning Python. In this short lesson, we'll learn how to use Python to do arithmetic operations.\n",
    "\n",
    "Python allows you to perform all of the basic mathematical computations that you can perform on a calculator, using syntax similar to what you'd expect if you were using a calculator. To perform arithmetic with Python, simply type the operation you wish to perform into a code cell and then run the cell to view the result. (Remember, if you like you can fork this notebook using the blue button at the top of the screen and then run code cells yourself by selecting the cell you wish to run and pressing control + enter.).\n",
    "\n",
    "Use the + sign to perform addition:"
   ]
  },
  {
   "cell_type": "code",
   "execution_count": 1,
   "metadata": {
    "execution": {
     "iopub.execute_input": "2023-10-17T04:55:40.729338Z",
     "iopub.status.busy": "2023-10-17T04:55:40.728853Z",
     "iopub.status.idle": "2023-10-17T04:55:40.738820Z",
     "shell.execute_reply": "2023-10-17T04:55:40.738062Z",
     "shell.execute_reply.started": "2023-10-17T04:55:40.729284Z"
    }
   },
   "outputs": [
    {
     "data": {
      "text/plain": [
       "15"
      ]
     },
     "execution_count": 1,
     "metadata": {},
     "output_type": "execute_result"
    }
   ],
   "source": [
    "10 + 5"
   ]
  },
  {
   "cell_type": "markdown",
   "metadata": {},
   "source": [
    "Use the - sign to perform subtraction:\n",
    "\n",
    "Note: putting a - sign in front of a number makes it negative."
   ]
  },
  {
   "cell_type": "code",
   "execution_count": 2,
   "metadata": {
    "execution": {
     "iopub.execute_input": "2023-10-17T04:55:43.832087Z",
     "iopub.status.busy": "2023-10-17T04:55:43.831809Z",
     "iopub.status.idle": "2023-10-17T04:55:43.837059Z",
     "shell.execute_reply": "2023-10-17T04:55:43.836280Z",
     "shell.execute_reply.started": "2023-10-17T04:55:43.832031Z"
    }
   },
   "outputs": [
    {
     "data": {
      "text/plain": [
       "5"
      ]
     },
     "execution_count": 2,
     "metadata": {},
     "output_type": "execute_result"
    }
   ],
   "source": [
    "10 - 5"
   ]
  },
  {
   "cell_type": "markdown",
   "metadata": {},
   "source": [
    "Use * for multiplication:"
   ]
  },
  {
   "cell_type": "code",
   "execution_count": 3,
   "metadata": {
    "execution": {
     "iopub.execute_input": "2023-10-17T04:55:48.214881Z",
     "iopub.status.busy": "2023-10-17T04:55:48.214624Z",
     "iopub.status.idle": "2023-10-17T04:55:48.220318Z",
     "shell.execute_reply": "2023-10-17T04:55:48.219659Z",
     "shell.execute_reply.started": "2023-10-17T04:55:48.214831Z"
    }
   },
   "outputs": [
    {
     "data": {
      "text/plain": [
       "50"
      ]
     },
     "execution_count": 3,
     "metadata": {},
     "output_type": "execute_result"
    }
   ],
   "source": [
    "10 * 5"
   ]
  },
  {
   "cell_type": "markdown",
   "metadata": {},
   "source": [
    "Use / for decimal division:"
   ]
  },
  {
   "cell_type": "code",
   "execution_count": 4,
   "metadata": {
    "execution": {
     "iopub.execute_input": "2023-10-17T04:55:53.833848Z",
     "iopub.status.busy": "2023-10-17T04:55:53.833339Z",
     "iopub.status.idle": "2023-10-17T04:55:53.837149Z",
     "shell.execute_reply": "2023-10-17T04:55:53.836763Z",
     "shell.execute_reply.started": "2023-10-17T04:55:53.833804Z"
    }
   },
   "outputs": [
    {
     "data": {
      "text/plain": [
       "3.3333333333333335"
      ]
     },
     "execution_count": 4,
     "metadata": {},
     "output_type": "execute_result"
    }
   ],
   "source": [
    "10 / 3"
   ]
  },
  {
   "cell_type": "markdown",
   "metadata": {},
   "source": [
    "Use // for floor division (Round decimal remainders down):"
   ]
  },
  {
   "cell_type": "code",
   "execution_count": 5,
   "metadata": {
    "execution": {
     "iopub.execute_input": "2023-10-17T04:55:59.046998Z",
     "iopub.status.busy": "2023-10-17T04:55:59.046484Z",
     "iopub.status.idle": "2023-10-17T04:55:59.050562Z",
     "shell.execute_reply": "2023-10-17T04:55:59.049642Z",
     "shell.execute_reply.started": "2023-10-17T04:55:59.046966Z"
    }
   },
   "outputs": [
    {
     "data": {
      "text/plain": [
       "3"
      ]
     },
     "execution_count": 5,
     "metadata": {},
     "output_type": "execute_result"
    }
   ],
   "source": [
    "10 // 3"
   ]
  },
  {
   "cell_type": "markdown",
   "metadata": {},
   "source": [
    "Use ** for exponentiation:"
   ]
  },
  {
   "cell_type": "code",
   "execution_count": 6,
   "metadata": {
    "execution": {
     "iopub.execute_input": "2023-10-17T04:56:18.070565Z",
     "iopub.status.busy": "2023-10-17T04:56:18.070287Z",
     "iopub.status.idle": "2023-10-17T04:56:18.076337Z",
     "shell.execute_reply": "2023-10-17T04:56:18.075243Z",
     "shell.execute_reply.started": "2023-10-17T04:56:18.070507Z"
    }
   },
   "outputs": [
    {
     "data": {
      "text/plain": [
       "1000"
      ]
     },
     "execution_count": 6,
     "metadata": {},
     "output_type": "execute_result"
    }
   ],
   "source": [
    "10 ** 3"
   ]
  },
  {
   "cell_type": "markdown",
   "metadata": {},
   "source": [
    "Math expressions in Python follow the normal arithmetic order of operations so * and / are executed before + and - and ** is executed before multiplication and division.\n",
    "\n",
    "Note: Lines within Python code that begin with \"#\" are text comments. Comments are typically used to make notes and describe what code does and do not affect the code when it is run."
   ]
  },
  {
   "cell_type": "code",
   "execution_count": 7,
   "metadata": {
    "execution": {
     "iopub.execute_input": "2023-10-17T04:56:56.678393Z",
     "iopub.status.busy": "2023-10-17T04:56:56.678130Z",
     "iopub.status.idle": "2023-10-17T04:56:56.683343Z",
     "shell.execute_reply": "2023-10-17T04:56:56.682735Z",
     "shell.execute_reply.started": "2023-10-17T04:56:56.678346Z"
    }
   },
   "outputs": [
    {
     "data": {
      "text/plain": [
       "77"
      ]
     },
     "execution_count": 7,
     "metadata": {},
     "output_type": "execute_result"
    }
   ],
   "source": [
    "# These operations are executed in reverse order of appearance due to the order of operations.\n",
    "\n",
    "2 + 3 * 5 ** 2"
   ]
  },
  {
   "cell_type": "markdown",
   "metadata": {},
   "source": [
    "You can use parentheses in your math expressions to ensure that operations are carried out on the correct order. Operations within parentheses are carried out before operations that are external to the parentheses, just like you'd expect."
   ]
  },
  {
   "cell_type": "code",
   "execution_count": 8,
   "metadata": {
    "execution": {
     "iopub.execute_input": "2023-10-17T04:57:29.520821Z",
     "iopub.status.busy": "2023-10-17T04:57:29.520356Z",
     "iopub.status.idle": "2023-10-17T04:57:29.526142Z",
     "shell.execute_reply": "2023-10-17T04:57:29.525309Z",
     "shell.execute_reply.started": "2023-10-17T04:57:29.520717Z"
    }
   },
   "outputs": [
    {
     "data": {
      "text/plain": [
       "625"
      ]
     },
     "execution_count": 8,
     "metadata": {},
     "output_type": "execute_result"
    }
   ],
   "source": [
    "# This time, the addition comes first and the exponentiation comes last.\n",
    "\n",
    "((2 + 3) * 5 ) ** 2"
   ]
  },
  {
   "cell_type": "markdown",
   "metadata": {},
   "source": [
    "If you're new to programming, you may not be familiar with the modulus operator. The modulus produces the remainder you'd get when dividing two numbers. Use the % sign to take the modulus in Python:"
   ]
  },
  {
   "cell_type": "code",
   "execution_count": 9,
   "metadata": {
    "execution": {
     "iopub.execute_input": "2023-10-17T04:57:45.458411Z",
     "iopub.status.busy": "2023-10-17T04:57:45.458183Z",
     "iopub.status.idle": "2023-10-17T04:57:45.463719Z",
     "shell.execute_reply": "2023-10-17T04:57:45.462969Z",
     "shell.execute_reply.started": "2023-10-17T04:57:45.458379Z"
    }
   },
   "outputs": [
    {
     "data": {
      "text/plain": [
       "25"
      ]
     },
     "execution_count": 9,
     "metadata": {},
     "output_type": "execute_result"
    }
   ],
   "source": [
    "100 % 75"
   ]
  },
  {
   "cell_type": "markdown",
   "metadata": {},
   "source": [
    "Beyond symbolic operators, Python contains a variety of named math functions available in the \"math\" module. To load a library into Python, \"import\" followed by the name of the library."
   ]
  },
  {
   "cell_type": "code",
   "execution_count": 10,
   "metadata": {
    "execution": {
     "iopub.execute_input": "2023-10-17T04:58:05.263211Z",
     "iopub.status.busy": "2023-10-17T04:58:05.262945Z",
     "iopub.status.idle": "2023-10-17T04:58:05.267591Z",
     "shell.execute_reply": "2023-10-17T04:58:05.266375Z",
     "shell.execute_reply.started": "2023-10-17T04:58:05.263159Z"
    }
   },
   "outputs": [],
   "source": [
    "import math     # Load the math module"
   ]
  },
  {
   "cell_type": "code",
   "execution_count": 11,
   "metadata": {
    "execution": {
     "iopub.execute_input": "2023-10-17T04:59:21.875445Z",
     "iopub.status.busy": "2023-10-17T04:59:21.875187Z",
     "iopub.status.idle": "2023-10-17T04:59:21.882017Z",
     "shell.execute_reply": "2023-10-17T04:59:21.880760Z",
     "shell.execute_reply.started": "2023-10-17T04:59:21.875409Z"
    }
   },
   "outputs": [
    {
     "data": {
      "text/plain": [
       "0.9999698965391098"
      ]
     },
     "execution_count": 11,
     "metadata": {},
     "output_type": "execute_result"
    }
   ],
   "source": [
    "# math.log() takes the natural logarithm of its argument:\n",
    "\n",
    "math.log(2.7182)"
   ]
  },
  {
   "cell_type": "code",
   "execution_count": 12,
   "metadata": {
    "execution": {
     "iopub.execute_input": "2023-10-17T04:58:28.277103Z",
     "iopub.status.busy": "2023-10-17T04:58:28.276848Z",
     "iopub.status.idle": "2023-10-17T04:58:28.282487Z",
     "shell.execute_reply": "2023-10-17T04:58:28.281613Z",
     "shell.execute_reply.started": "2023-10-17T04:58:28.277069Z"
    }
   },
   "outputs": [
    {
     "data": {
      "text/plain": [
       "2.0"
      ]
     },
     "execution_count": 12,
     "metadata": {},
     "output_type": "execute_result"
    }
   ],
   "source": [
    "# Add a second argument to specify the log base:\n",
    "\n",
    "math.log(100, 10)       # Take the log base 10 of 100"
   ]
  },
  {
   "cell_type": "code",
   "execution_count": 13,
   "metadata": {
    "execution": {
     "iopub.execute_input": "2023-10-17T04:59:39.960251Z",
     "iopub.status.busy": "2023-10-17T04:59:39.960018Z",
     "iopub.status.idle": "2023-10-17T04:59:39.965634Z",
     "shell.execute_reply": "2023-10-17T04:59:39.964822Z",
     "shell.execute_reply.started": "2023-10-17T04:59:39.960218Z"
    }
   },
   "outputs": [
    {
     "data": {
      "text/plain": [
       "22026.465794806718"
      ]
     },
     "execution_count": 13,
     "metadata": {},
     "output_type": "execute_result"
    }
   ],
   "source": [
    "# math.exp() raises e to the power of its argument\n",
    "\n",
    "math.exp(10) "
   ]
  },
  {
   "cell_type": "code",
   "execution_count": 14,
   "metadata": {
    "execution": {
     "iopub.execute_input": "2023-10-17T05:00:03.348370Z",
     "iopub.status.busy": "2023-10-17T05:00:03.348108Z",
     "iopub.status.idle": "2023-10-17T05:00:03.353614Z",
     "shell.execute_reply": "2023-10-17T05:00:03.352567Z",
     "shell.execute_reply.started": "2023-10-17T05:00:03.348321Z"
    }
   },
   "outputs": [
    {
     "data": {
      "text/plain": [
       "8.0"
      ]
     },
     "execution_count": 14,
     "metadata": {},
     "output_type": "execute_result"
    }
   ],
   "source": [
    "# Use math.sqrt() to take the square root of a number:\n",
    "\n",
    "math.sqrt(64)"
   ]
  },
  {
   "cell_type": "code",
   "execution_count": 15,
   "metadata": {
    "execution": {
     "iopub.execute_input": "2023-10-17T05:00:07.884978Z",
     "iopub.status.busy": "2023-10-17T05:00:07.884720Z",
     "iopub.status.idle": "2023-10-17T05:00:07.889497Z",
     "shell.execute_reply": "2023-10-17T05:00:07.889000Z",
     "shell.execute_reply.started": "2023-10-17T05:00:07.884922Z"
    }
   },
   "outputs": [
    {
     "data": {
      "text/plain": [
       "30"
      ]
     },
     "execution_count": 15,
     "metadata": {},
     "output_type": "execute_result"
    }
   ],
   "source": [
    "# Use abs() to get the absolute value of a number. Note abs() is a base Python function so you do not need to load the math package to use it.\n",
    "\n",
    "abs(-30)"
   ]
  },
  {
   "cell_type": "code",
   "execution_count": 16,
   "metadata": {
    "execution": {
     "iopub.execute_input": "2023-10-17T05:00:14.798985Z",
     "iopub.status.busy": "2023-10-17T05:00:14.798638Z",
     "iopub.status.idle": "2023-10-17T05:00:14.804665Z",
     "shell.execute_reply": "2023-10-17T05:00:14.803785Z",
     "shell.execute_reply.started": "2023-10-17T05:00:14.798893Z"
    }
   },
   "outputs": [
    {
     "data": {
      "text/plain": [
       "3.141592653589793"
      ]
     },
     "execution_count": 16,
     "metadata": {},
     "output_type": "execute_result"
    }
   ],
   "source": [
    "math.pi   # Get the constant pi"
   ]
  },
  {
   "cell_type": "markdown",
   "metadata": {},
   "source": [
    "# Rounding Numbers"
   ]
  },
  {
   "cell_type": "markdown",
   "metadata": {},
   "source": [
    "Base Python contains a round() function that lets you round numbers to the nearest whole number. You can also round up or down with math.ceil and math.floor respectively."
   ]
  },
  {
   "cell_type": "code",
   "execution_count": 17,
   "metadata": {
    "execution": {
     "iopub.execute_input": "2023-10-17T05:00:31.765646Z",
     "iopub.status.busy": "2023-10-17T05:00:31.765134Z",
     "iopub.status.idle": "2023-10-17T05:00:31.770850Z",
     "shell.execute_reply": "2023-10-17T05:00:31.769867Z",
     "shell.execute_reply.started": "2023-10-17T05:00:31.765354Z"
    }
   },
   "outputs": [
    {
     "data": {
      "text/plain": [
       "233"
      ]
     },
     "execution_count": 17,
     "metadata": {},
     "output_type": "execute_result"
    }
   ],
   "source": [
    "# Use round() to round a number to the nearest whole number:\n",
    "\n",
    "round(233.234)"
   ]
  },
  {
   "cell_type": "code",
   "execution_count": 18,
   "metadata": {
    "execution": {
     "iopub.execute_input": "2023-10-17T05:00:34.960747Z",
     "iopub.status.busy": "2023-10-17T05:00:34.960466Z",
     "iopub.status.idle": "2023-10-17T05:00:34.964616Z",
     "shell.execute_reply": "2023-10-17T05:00:34.963934Z",
     "shell.execute_reply.started": "2023-10-17T05:00:34.960703Z"
    }
   },
   "outputs": [
    {
     "data": {
      "text/plain": [
       "233.2"
      ]
     },
     "execution_count": 18,
     "metadata": {},
     "output_type": "execute_result"
    }
   ],
   "source": [
    "# Add a second argument to round to a specified decimal place\n",
    "\n",
    "round(233.234, 1)   # round to 1 decimal place"
   ]
  },
  {
   "cell_type": "code",
   "execution_count": 19,
   "metadata": {
    "execution": {
     "iopub.execute_input": "2023-10-17T05:00:42.335813Z",
     "iopub.status.busy": "2023-10-17T05:00:42.335302Z",
     "iopub.status.idle": "2023-10-17T05:00:42.340387Z",
     "shell.execute_reply": "2023-10-17T05:00:42.339619Z",
     "shell.execute_reply.started": "2023-10-17T05:00:42.335741Z"
    }
   },
   "outputs": [
    {
     "data": {
      "text/plain": [
       "230.0"
      ]
     },
     "execution_count": 19,
     "metadata": {},
     "output_type": "execute_result"
    }
   ],
   "source": [
    "# Enter a negative number to round to the left of the decimal\n",
    "\n",
    "round(233.234, -1)   # round to the 10's place"
   ]
  },
  {
   "cell_type": "code",
   "execution_count": 20,
   "metadata": {
    "execution": {
     "iopub.execute_input": "2023-10-17T05:01:13.961850Z",
     "iopub.status.busy": "2023-10-17T05:01:13.961361Z",
     "iopub.status.idle": "2023-10-17T05:01:13.967359Z",
     "shell.execute_reply": "2023-10-17T05:01:13.966492Z",
     "shell.execute_reply.started": "2023-10-17T05:01:13.961579Z"
    }
   },
   "outputs": [
    {
     "data": {
      "text/plain": [
       "2"
      ]
     },
     "execution_count": 20,
     "metadata": {},
     "output_type": "execute_result"
    }
   ],
   "source": [
    "# Round down to the nearest whole number with math.floor()\n",
    "\n",
    "math.floor(2.8) "
   ]
  },
  {
   "cell_type": "code",
   "execution_count": 21,
   "metadata": {
    "execution": {
     "iopub.execute_input": "2023-10-17T05:01:18.985097Z",
     "iopub.status.busy": "2023-10-17T05:01:18.984862Z",
     "iopub.status.idle": "2023-10-17T05:01:18.990975Z",
     "shell.execute_reply": "2023-10-17T05:01:18.990216Z",
     "shell.execute_reply.started": "2023-10-17T05:01:18.985056Z"
    }
   },
   "outputs": [
    {
     "data": {
      "text/plain": [
       "3"
      ]
     },
     "execution_count": 21,
     "metadata": {},
     "output_type": "execute_result"
    }
   ],
   "source": [
    "# Round up with math.ciel()\n",
    "\n",
    "math.ceil(2.2)"
   ]
  },
  {
   "cell_type": "markdown",
   "metadata": {},
   "source": [
    "# Wrap Up"
   ]
  },
  {
   "cell_type": "markdown",
   "metadata": {},
   "source": [
    "In this lesson, we learned that Python is a powerful calculator. Any time you need to perform a common mathematical operation in Python, chances are there is a function for it available in one of Python's many libraries. When in doubt, try searching Google. Helpful blog posts and answers posted on programming sites like Stack Overflow can often save you a lot time and help you learn better ways of doing things without reinventing the wheel.\n",
    "\n",
    "In the next lesson, we'll learn about the basic data types you'll encounter in Python."
   ]
  },
  {
   "cell_type": "markdown",
   "metadata": {},
   "source": [
    "# Next Lesson: [Python for Data 3: Basic Data Types](https://www.kaggle.com/hamelg/python-for-data-3-basic-data-types)\n",
    "[back to index](https://www.kaggle.com/hamelg/python-for-data-analysis-index)"
   ]
  }
 ],
 "metadata": {
  "kernelspec": {
   "display_name": "Python 3",
   "language": "python",
   "name": "python3"
  },
  "language_info": {
   "codemirror_mode": {
    "name": "ipython",
    "version": 3
   },
   "file_extension": ".py",
   "mimetype": "text/x-python",
   "name": "python",
   "nbconvert_exporter": "python",
   "pygments_lexer": "ipython3",
   "version": "3.6.4"
  }
 },
 "nbformat": 4,
 "nbformat_minor": 4
}
